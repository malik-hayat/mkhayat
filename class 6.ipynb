{
 "cells": [
  {
   "cell_type": "markdown",
   "metadata": {},
   "source": [
    "# if else and elif"
   ]
  },
  {
   "cell_type": "code",
   "execution_count": 1,
   "metadata": {},
   "outputs": [],
   "source": [
    "# ifr condition == True\n",
    "#  order execute"
   ]
  },
  {
   "cell_type": "code",
   "execution_count": 9,
   "metadata": {},
   "outputs": [],
   "source": [
    "available_drink =\"7up\""
   ]
  },
  {
   "cell_type": "code",
   "execution_count": 10,
   "metadata": {},
   "outputs": [
    {
     "name": "stdout",
     "output_type": "stream",
     "text": [
      "pagla rulaega kia!\n"
     ]
    }
   ],
   "source": [
    "if  available_drink==\"rohafza\":\n",
    "    print(\"happy\")\n",
    "        \n",
    "elif available_drink==\"pakola\" :\n",
    "    print(\"ok! kam chlaga\")\n",
    "        \n",
    "elif available_drink==\"pepsi\" :\n",
    "     print(\"kasam sa haha hri ha\")\n",
    "        \n",
    "else: #if nothing will work . do this\n",
    "     print(\"pagla rulaega kia!\")"
   ]
  },
  {
   "cell_type": "code",
   "execution_count": null,
   "metadata": {},
   "outputs": [],
   "source": []
  }
 ],
 "metadata": {
  "kernelspec": {
   "display_name": "Python 3",
   "language": "python",
   "name": "python3"
  },
  "language_info": {
   "codemirror_mode": {
    "name": "ipython",
    "version": 3
   },
   "file_extension": ".py",
   "mimetype": "text/x-python",
   "name": "python",
   "nbconvert_exporter": "python",
   "pygments_lexer": "ipython3",
   "version": "3.7.4"
  }
 },
 "nbformat": 4,
 "nbformat_minor": 2
}
