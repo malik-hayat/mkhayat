{
 "cells": [
  {
   "cell_type": "markdown",
   "metadata": {},
   "source": [
    "# Home work"
   ]
  },
  {
   "cell_type": "code",
   "execution_count": 5,
   "metadata": {},
   "outputs": [
    {
     "name": "stdout",
     "output_type": "stream",
     "text": [
      "enter  name of student: ali\n",
      "enter marks of sub1: 70\n",
      "enter marks of sub2: 65\n",
      "enter marks of sub3: 70\n",
      "enter marks of sub4: 65\n",
      "enter marks of sub5: 70\n",
      "enter marks of sub6: 65\n",
      "ali\n",
      "405\n",
      "67.5\n",
      "B\n"
     ]
    }
   ],
   "source": [
    "name = input(\"enter  name of student: \")\n",
    "sub1 = int(input(\"enter marks of sub1: \"))\n",
    "sub2 = int(input(\"enter marks of sub2: \"))\n",
    "sub3 = int(input(\"enter marks of sub3: \"))\n",
    "sub4 = int(input(\"enter marks of sub4: \"))\n",
    "sub5 = int(input(\"enter marks of sub5: \"))\n",
    "sub6 = int(input(\"enter marks of sub6: \"))\n",
    "total = sub1+sub2+sub3+sub4+sub5+sub6\n",
    "per=total*100/600\n",
    "if per >=80:\n",
    "    grade =\"A1\"\n",
    "    \n",
    "elif per >=70:\n",
    "    grade=\"A\"\n",
    "    \n",
    "elif per >=60:\n",
    "    grade=\"B\"\n",
    "    \n",
    "elif per >=50:\n",
    "    grade=\"c\"\n",
    "    \n",
    "elif per >=40:\n",
    "    grade=\"D\"\n",
    "    \n",
    "else:\n",
    "    grade=\"fail\"\n",
    "    \n",
    "print(name)\n",
    "print(total)\n",
    "print(per)\n",
    "print(grade)\n"
   ]
  },
  {
   "cell_type": "code",
   "execution_count": null,
   "metadata": {},
   "outputs": [],
   "source": []
  },
  {
   "cell_type": "code",
   "execution_count": 4,
   "metadata": {},
   "outputs": [],
   "source": []
  },
  {
   "cell_type": "code",
   "execution_count": null,
   "metadata": {},
   "outputs": [],
   "source": []
  },
  {
   "cell_type": "code",
   "execution_count": null,
   "metadata": {},
   "outputs": [],
   "source": []
  },
  {
   "cell_type": "code",
   "execution_count": null,
   "metadata": {},
   "outputs": [],
   "source": []
  }
 ],
 "metadata": {
  "kernelspec": {
   "display_name": "Python 3",
   "language": "python",
   "name": "python3"
  },
  "language_info": {
   "codemirror_mode": {
    "name": "ipython",
    "version": 3
   },
   "file_extension": ".py",
   "mimetype": "text/x-python",
   "name": "python",
   "nbconvert_exporter": "python",
   "pygments_lexer": "ipython3",
   "version": "3.7.4"
  }
 },
 "nbformat": 4,
 "nbformat_minor": 2
}
